{
 "cells": [
  {
   "cell_type": "markdown",
   "id": "67c7f379-1066-4c18-bd1d-b992db5c35f8",
   "metadata": {},
   "source": [
    "# Data Science Tools and Techniques"
   ]
  },
  {
   "cell_type": "markdown",
   "id": "bc01d8ab-7b97-4338-92f8-930effbc2e9f",
   "metadata": {},
   "source": [
    "This notebook provides an overview of various data science tools and languages.\n",
    "We will also demonstrate basic arithmetic operations and conversions in Python."
   ]
  },
  {
   "cell_type": "markdown",
   "id": "ddc69aba-1eea-4da6-94c0-f030eecb1f5c",
   "metadata": {},
   "source": [
    "## Data Science Languages\n",
    "Data Science involves multiple programming languages. Some of the most popular ones are:\n",
    "1. Python\n",
    "2. R\n",
    "3. SQL\n",
    "4. Scala"
   ]
  },
  {
   "cell_type": "markdown",
   "id": "859bb296-d0ba-4249-b42c-594709003834",
   "metadata": {},
   "source": [
    "## Data Science Libraries\n",
    "Some of the most widely used libraries in data science include:\n",
    "1. Pandas\n",
    "2. NumPy\n",
    "3. SciPy\n",
    "4. Scikit-learn\n",
    "5. TensorFlow"
   ]
  },
  {
   "cell_type": "markdown",
   "id": "c642dae5-8d6b-40ff-91a4-5b8281e666f9",
   "metadata": {},
   "source": [
    "## Data Science Tools\n",
    "\n",
    "| Tool          | Purpose          | Language     |\n",
    "|---------------|------------------|--------------|\n",
    "| Jupyter       | Notebook         | Python, R    |\n",
    "| RStudio       | IDE for R        | R            |\n",
    "| TensorFlow    | Machine Learning | Python       |\n",
    "| Hadoop        | Big Data         | Java         |"
   ]
  },
  {
   "cell_type": "markdown",
   "id": "c842734a-e3fc-44e7-8611-3c8aeba996f2",
   "metadata": {},
   "source": [
    "## Arithmetic Expressions\n",
    "Here are some basic arithmetic expressions demonstrated in Python."
   ]
  },
  {
   "cell_type": "code",
   "execution_count": 2,
   "id": "cdd86f71-c10a-478e-a1dc-9100e0171964",
   "metadata": {},
   "outputs": [
    {
     "data": {
      "text/plain": [
       "(15, 8)"
      ]
     },
     "execution_count": 2,
     "metadata": {},
     "output_type": "execute_result"
    }
   ],
   "source": [
    "a = 5\n",
    "b = 3\n",
    "multiplication = a * b\n",
    "addition = a + b\n",
    "multiplication, addition"
   ]
  },
  {
   "cell_type": "code",
   "execution_count": 3,
   "id": "203962e1-6433-4ef2-b5a0-cbf751778876",
   "metadata": {},
   "outputs": [
    {
     "data": {
      "text/plain": [
       "2.0"
      ]
     },
     "execution_count": 3,
     "metadata": {},
     "output_type": "execute_result"
    }
   ],
   "source": [
    "def minutes_to_hours(minutes):\n",
    "    return minutes / 60\n",
    "\n",
    "minutes_to_hours(120)"
   ]
  },
  {
   "cell_type": "code",
   "execution_count": null,
   "id": "2d900140-babf-4a7f-a1fe-0e5409dfbbba",
   "metadata": {},
   "outputs": [],
   "source": []
  }
 ],
 "metadata": {
  "kernelspec": {
   "display_name": "Python 3 (ipykernel)",
   "language": "python",
   "name": "python3"
  },
  "language_info": {
   "codemirror_mode": {
    "name": "ipython",
    "version": 3
   },
   "file_extension": ".py",
   "mimetype": "text/x-python",
   "name": "python",
   "nbconvert_exporter": "python",
   "pygments_lexer": "ipython3",
   "version": "3.10.10"
  }
 },
 "nbformat": 4,
 "nbformat_minor": 5
}
